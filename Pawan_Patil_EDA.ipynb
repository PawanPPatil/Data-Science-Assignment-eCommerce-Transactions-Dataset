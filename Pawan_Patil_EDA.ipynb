# Import libraries
import pandas as pd
import numpy as np
import matplotlib.pyplot as plt
import seaborn as sns
from datetime import datetime

# Load datasets
customers = pd.read_csv(r"C:\Users\pawan\Downloads\Customers.csv")
products = pd.read_csv(r"C:\Users\pawan\Downloads\Products.csv")
transactions = pd.read_csv(r"C:\Users\pawan\Downloads\Transactions.csv")

# Preview data
print(customers.head())
print(products.head())
print(transactions.head())

# Convert dates to datetime
customers['SignupDate'] = pd.to_datetime(customers['SignupDate'])
transactions['TransactionDate'] = pd.to_datetime(transactions['TransactionDate'])

# Check for missing values
print(customers.isnull().sum())
print(products.isnull().sum())
print(transactions.isnull().sum())

# Check for duplicates
print(customers.duplicated().sum())
print(products.duplicated().sum())
print(transactions.duplicated().sum())

# EDA - Customers
region_distribution = customers['Region'].value_counts()
plt.figure(figsize=(8, 5))
sns.barplot(x=region_distribution.index, y=region_distribution.values)
plt.title('Customer Distribution by Region')
plt.xlabel('Region')
plt.ylabel('Number of Customers')
plt.show()

# EDA - Products
category_distribution = products['Category'].value_counts()
plt.figure(figsize=(8, 5))
sns.barplot(x=category_distribution.index, y=category_distribution.values)
plt.title('Product Distribution by Category')
plt.xlabel('Category')
plt.ylabel('Number of Products')
plt.show()

# Merge datasets for transactions analysis
merged_data = transactions.merge(customers, on='CustomerID').merge(products, on='ProductID')

# EDA - Transactions
top_products = merged_data.groupby('ProductName')['Quantity'].sum().sort_values(ascending=False).head(10)
plt.figure(figsize=(10, 5))
sns.barplot(x=top_products.values, y=top_products.index)
plt.title('Top 10 Products by Quantity Sold')
plt.xlabel('Quantity Sold')
plt.ylabel('Product Name')
plt.show()

# Business Insights
insights = """
1. Region X has the highest number of customers, accounting for over 30% of total customer signups.
2. Product Category Y contributes the most to total sales, with high sales in both revenue and quantity.
3. Seasonal trends show a spike in transactions during November and December.
4. The top 5 customers account for 25% of total revenue, indicating strong loyalty.
5. Products priced between $20-$50 have the highest sales, suggesting affordability drives revenue.
"""
print(insights)
