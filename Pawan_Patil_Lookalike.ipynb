import pandas as pd
from sklearn.feature_extraction.text import TfidfVectorizer
from sklearn.metrics.pairwise import cosine_similarity

# Load datasets
customers = pd.read_csv(r"C:\Users\pawan\Downloads\Customers.csv")
products = pd.read_csv(r"C:\Users\pawan\Downloads\Products.csv")
transactions = pd.read_csv(r"C:\Users\pawan\Downloads\Transactions.csv")

# Merge datasets to combine all necessary information
merged_data = transactions.merge(customers, on="CustomerID", how="left")
merged_data = merged_data.merge(products, on="ProductID", how="left")

# Preprocessing: Create a customer-product summary for feature extraction
customer_summary = merged_data.groupby("CustomerID").agg({
    'ProductName': lambda x: " ".join(x),  # Combine purchased product names
    'Category': lambda x: " ".join(x),    # Combine product categories
    'Region': 'first',                    # Region of the customer
    'TotalValue': 'sum',                  # Total revenue by the customer
    'Quantity': 'sum'                     # Total quantity purchased
}).reset_index()

# Combine text fields (ProductName and Category) into a single string for each customer
customer_summary['CombinedFeatures'] = (
    customer_summary['ProductName'] + " " + customer_summary['Category'] + " " + customer_summary['Region']
)

# Step 1: Transform textual data into numerical features using TF-IDF
tfidf = TfidfVectorizer()
feature_matrix = tfidf.fit_transform(customer_summary['CombinedFeatures'])

# Step 2: Calculate cosine similarity between all customers
similarity_matrix = cosine_similarity(feature_matrix)

# Function to get top 3 similar customers for a given customer
def get_top_3_similar_customers(customer_index, similarity_matrix, customer_ids):
    similar_indices = similarity_matrix[customer_index].argsort()[::-1][1:4]  # Skip self-match (highest similarity)
    similar_customers = [
        (customer_ids[i], similarity_matrix[customer_index][i]) for i in similar_indices
    ]
    return similar_customers

# Step 3: Generate the lookalike recommendations for the first 20 customers (C0001 - C0020)
lookalike_map = {}
customer_ids = customer_summary['CustomerID'].tolist()

for i in range(20):  # First 20 customers
    lookalikes = get_top_3_similar_customers(i, similarity_matrix, customer_ids)
    lookalike_map[customer_ids[i]] = lookalikes

# Save the Lookalike Map to CSV
lookalike_data = []

for cust_id, lookalikes in lookalike_map.items():
    for similar_id, score in lookalikes:
        lookalike_data.append({"CustomerID": cust_id, "SimilarCustomerID": similar_id, "Score": score})

lookalike_df = pd.DataFrame(lookalike_data)
lookalike_df.to_csv(r"C:\Users\pawan\Downloads\Lookalike.csv", index=False)

# Step 4: Save the code into a Jupyter Notebook
with open(r"C:\Users\pawan\Downloads\lookalike_model.py", "w") as f:
    f.write("""
# Add the entire code above here
    """)

# Display Lookalike Recommendations for verification
print(lookalike_df.head(20))
